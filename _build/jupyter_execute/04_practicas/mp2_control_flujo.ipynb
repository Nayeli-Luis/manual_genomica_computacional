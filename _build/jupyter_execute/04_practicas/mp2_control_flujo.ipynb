{
 "cells": [
  {
   "cell_type": "markdown",
   "id": "dba0b8da",
   "metadata": {},
   "source": [
    "# Control de flujo con cadenas de DNA.\n",
    "\n",
    "Ésta práctica se entrega por Classroom en una libreta de Jupyter (`.ipynb`) con la siguiente estructura en el nombre: \n",
    "\n",
    "    mp2_Apellidos_Nombres.ipynb\n",
    "    \n",
    "Para generar secuencias de DNA de diferente tamaño te sugiero utilizar la siguiente función:"
   ]
  },
  {
   "cell_type": "code",
   "execution_count": 1,
   "id": "25cb7744",
   "metadata": {},
   "outputs": [],
   "source": [
    "import random\n",
    "\n",
    "def generar_secuencia(tamaño = int(), codigo = \"CTGA\"):\n",
    "    return''.join(random.choices(codigo, k = tamaño))\n",
    "\n",
    "# generar secuencia de 50 pb y guardar en variable\n",
    "DNA = generar_secuencia(50)"
   ]
  },
  {
   "cell_type": "markdown",
   "id": "ba8a2608",
   "metadata": {},
   "source": [
    "* Crea un programa en el que un usuario ingrese un codón y el programa arroje un mensaje que diga si se trada de un codón de stop, de inicio o ninguno de ambos casos. "
   ]
  },
  {
   "cell_type": "code",
   "execution_count": 2,
   "id": "af428ee7",
   "metadata": {},
   "outputs": [],
   "source": [
    "# Tu respuesta\n",
    "\n",
    "\n"
   ]
  },
  {
   "cell_type": "markdown",
   "id": "eb20ddd3",
   "metadata": {},
   "source": [
    "* Crea un programa que arroje la frecuencia de A, T, C y G de una cadena de DNA de 300 nucleotídos. Punto extra (en algo) si logras hacerlo con bucles for y diccionarios."
   ]
  },
  {
   "cell_type": "code",
   "execution_count": 3,
   "id": "4e305638",
   "metadata": {},
   "outputs": [],
   "source": [
    "# Tu respuesta \n",
    "\n",
    "\n"
   ]
  },
  {
   "cell_type": "markdown",
   "id": "60bfacf8",
   "metadata": {},
   "source": [
    "* Listas de comprehensión. \n",
    "    1. Crea una lista que contenga 5 cadenas de DNA de 50 nucleótidos cada una. \n",
    "    2. Extrae de cada cadena el codón número 3\n",
    "    3. El programa debe dar como resultado una lista con los codones que extrajíste\n",
    "    \n",
    "Resuelve éste problema utilizando tanto un ciclo `for` con la función `append()` y utilizando la estructura de las listas de comprehensión.\n",
    "\n",
    "Piensa/resuelve por partes!"
   ]
  },
  {
   "cell_type": "code",
   "execution_count": 4,
   "id": "1ed465b9",
   "metadata": {},
   "outputs": [],
   "source": [
    "# Tu respuesta con for y append()\n",
    "\n",
    "\n"
   ]
  },
  {
   "cell_type": "code",
   "execution_count": 5,
   "id": "16d99897",
   "metadata": {},
   "outputs": [],
   "source": [
    "# Tu respuesta con lista de comprehensión\n",
    "\n",
    "\n"
   ]
  }
 ],
 "metadata": {
  "kernelspec": {
   "display_name": "Python 3 (ipykernel)",
   "language": "python",
   "name": "python3"
  },
  "language_info": {
   "codemirror_mode": {
    "name": "ipython",
    "version": 3
   },
   "file_extension": ".py",
   "mimetype": "text/x-python",
   "name": "python",
   "nbconvert_exporter": "python",
   "pygments_lexer": "ipython3",
   "version": "3.8.2"
  }
 },
 "nbformat": 4,
 "nbformat_minor": 5
}