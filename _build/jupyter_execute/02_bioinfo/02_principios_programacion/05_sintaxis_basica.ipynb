{
 "cells": [
  {
   "cell_type": "markdown",
   "id": "49c58bce",
   "metadata": {},
   "source": [
    "# Resumen de la sintaxis básica\n",
    "**Autora: M. Nayeli Luis-Vargas**"
   ]
  },
  {
   "cell_type": "markdown",
   "id": "c7fe7701",
   "metadata": {},
   "source": [
    "## Variables\n",
    "\n",
    "Reglas para asignar variables:\n",
    "\n",
    "\n",
    "* Siempre debe iniciar con letra (mayúscula o minúscula) o un guión bajo.\n",
    "* Puede contener números, solamente después de la primera letra.\n",
    "* No puede contener espacios en blanco\n",
    "* No puede utilizar palabras reservadas\n",
    "* Debe ser descriptiva y alusiva a lo que contenga.\n",
    "* En Python se recomienda que NO contenga puntos. Ejemplo: `mi.variable`.\n",
    "\n",
    "La asignación de variables en Python se lleva a cabo con el signo de igual (=).\n",
    "\n",
    "Ejemplos de variables nombradas correctamente:"
   ]
  },
  {
   "cell_type": "code",
   "execution_count": 1,
   "id": "e9554ef6",
   "metadata": {},
   "outputs": [],
   "source": [
    "primer_numero = 123\n",
    "segundoNumero = 543\n",
    "TercerNumero = 432"
   ]
  },
  {
   "cell_type": "markdown",
   "id": "6fc4d3df",
   "metadata": {},
   "source": [
    "Se puede asignar variables con datos de tipo \"string\" o cadena, es decir, con caracteres alfanuméricos, el requisito es que deben estar entre comillas (\" \"). Ejemplo: "
   ]
  },
  {
   "cell_type": "code",
   "execution_count": 2,
   "id": "023ec8af",
   "metadata": {},
   "outputs": [],
   "source": [
    "primer_planeta = \"Mercurio\""
   ]
  },
  {
   "cell_type": "markdown",
   "id": "0d7863ee",
   "metadata": {},
   "source": [
    "## Operadores\n",
    "### Operadores aritméticos\n",
    "\n",
    "|    Símbolo    |   Significado     |\n",
    "| ------------ | ----------------|\n",
    "|        +      |        suma       |\n",
    "|        -      |       resta       |\n",
    "|        *      |  multiplicación   |\n",
    "|        /      |      división     |\n",
    "|       //      |      división entera     |\n",
    "|        %      | residuo o módulo  |\n",
    "|       **      |      potencia     |"
   ]
  },
  {
   "cell_type": "code",
   "execution_count": 3,
   "id": "3ec3df87",
   "metadata": {},
   "outputs": [
    {
     "data": {
      "text/plain": [
       "778327"
      ]
     },
     "execution_count": 3,
     "metadata": {},
     "output_type": "execute_result"
    }
   ],
   "source": [
    "# Suma\n",
    "a = 234432\n",
    "b = 543895\n",
    "a + b"
   ]
  },
  {
   "cell_type": "code",
   "execution_count": 4,
   "id": "a8707176",
   "metadata": {},
   "outputs": [
    {
     "data": {
      "text/plain": [
       "-309463"
      ]
     },
     "execution_count": 4,
     "metadata": {},
     "output_type": "execute_result"
    }
   ],
   "source": [
    "# Resta\n",
    "a -b "
   ]
  },
  {
   "cell_type": "code",
   "execution_count": 5,
   "id": "db1fdaaf",
   "metadata": {},
   "outputs": [
    {
     "data": {
      "text/plain": [
       "127506392640"
      ]
     },
     "execution_count": 5,
     "metadata": {},
     "output_type": "execute_result"
    }
   ],
   "source": [
    "# multiplicación\n",
    "a * b"
   ]
  },
  {
   "cell_type": "code",
   "execution_count": 6,
   "id": "cde27d83",
   "metadata": {},
   "outputs": [
    {
     "data": {
      "text/plain": [
       "0.4310243705126909"
      ]
     },
     "execution_count": 6,
     "metadata": {},
     "output_type": "execute_result"
    }
   ],
   "source": [
    "# División \n",
    "a / b"
   ]
  },
  {
   "cell_type": "code",
   "execution_count": 7,
   "id": "aa51f9d1",
   "metadata": {},
   "outputs": [
    {
     "data": {
      "text/plain": [
       "0"
      ]
     },
     "execution_count": 7,
     "metadata": {},
     "output_type": "execute_result"
    }
   ],
   "source": [
    "# División entera\n",
    "a // b"
   ]
  },
  {
   "cell_type": "code",
   "execution_count": 8,
   "id": "72f40ebb",
   "metadata": {},
   "outputs": [
    {
     "data": {
      "text/plain": [
       "234432"
      ]
     },
     "execution_count": 8,
     "metadata": {},
     "output_type": "execute_result"
    }
   ],
   "source": [
    "# Módulo \n",
    "a % b"
   ]
  },
  {
   "cell_type": "code",
   "execution_count": 9,
   "id": "66c6fe54",
   "metadata": {},
   "outputs": [
    {
     "data": {
      "text/plain": [
       "12883998866669568"
      ]
     },
     "execution_count": 9,
     "metadata": {},
     "output_type": "execute_result"
    }
   ],
   "source": [
    "# Potencia\n",
    "a ** 3"
   ]
  },
  {
   "cell_type": "markdown",
   "id": "dff32f89",
   "metadata": {},
   "source": [
    "## Operadores relacionales\n",
    "\n",
    "Recuerda que éste da como resultado un dato booleano o lógico. \n",
    "\n",
    "|    Símbolo    |   Significado     |\n",
    "| :------------ | ----------------: |\n",
    "|        <      |    menor que      |\n",
    "|        >      |    mayor que      |\n",
    "|       <=      | menor o igual que |\n",
    "|       >=      | mayor o igual que |\n",
    "|       !=      |    diferente de   |\n",
    "|       ==      |      igual que    |\n"
   ]
  },
  {
   "cell_type": "code",
   "execution_count": 10,
   "id": "034bb022",
   "metadata": {},
   "outputs": [
    {
     "data": {
      "text/plain": [
       "True"
      ]
     },
     "execution_count": 10,
     "metadata": {},
     "output_type": "execute_result"
    }
   ],
   "source": [
    "a < b"
   ]
  },
  {
   "cell_type": "code",
   "execution_count": 11,
   "id": "60d218b6",
   "metadata": {},
   "outputs": [
    {
     "data": {
      "text/plain": [
       "False"
      ]
     },
     "execution_count": 11,
     "metadata": {},
     "output_type": "execute_result"
    }
   ],
   "source": [
    "a > b"
   ]
  },
  {
   "cell_type": "code",
   "execution_count": 12,
   "id": "e5193be5",
   "metadata": {},
   "outputs": [
    {
     "data": {
      "text/plain": [
       "True"
      ]
     },
     "execution_count": 12,
     "metadata": {},
     "output_type": "execute_result"
    }
   ],
   "source": [
    "a <= b"
   ]
  },
  {
   "cell_type": "code",
   "execution_count": 13,
   "id": "89a94bdb",
   "metadata": {},
   "outputs": [
    {
     "data": {
      "text/plain": [
       "False"
      ]
     },
     "execution_count": 13,
     "metadata": {},
     "output_type": "execute_result"
    }
   ],
   "source": [
    "a >= b"
   ]
  },
  {
   "cell_type": "code",
   "execution_count": 14,
   "id": "3f383065",
   "metadata": {},
   "outputs": [
    {
     "data": {
      "text/plain": [
       "True"
      ]
     },
     "execution_count": 14,
     "metadata": {},
     "output_type": "execute_result"
    }
   ],
   "source": [
    "a != b"
   ]
  },
  {
   "cell_type": "code",
   "execution_count": 15,
   "id": "4efb6b1c",
   "metadata": {},
   "outputs": [
    {
     "data": {
      "text/plain": [
       "False"
      ]
     },
     "execution_count": 15,
     "metadata": {},
     "output_type": "execute_result"
    }
   ],
   "source": [
    "a == b"
   ]
  },
  {
   "cell_type": "markdown",
   "id": "622a88b1",
   "metadata": {},
   "source": [
    "## Operadores lógicos\n",
    "\n",
    "|    Símbolo    |   Significado     |\n",
    "| :------------ | ----------------: |\n",
    "|    and     |    conjunción     |\n",
    "|     or    |    disyunción     |\n",
    "|    not   |     negación      |\n",
    "\n",
    "Empecemos con unas operaciones simples:"
   ]
  },
  {
   "cell_type": "code",
   "execution_count": 16,
   "id": "96f58e48",
   "metadata": {},
   "outputs": [
    {
     "data": {
      "text/plain": [
       "False"
      ]
     },
     "execution_count": 16,
     "metadata": {},
     "output_type": "execute_result"
    }
   ],
   "source": [
    "r = True\n",
    "s = False\n",
    "\n",
    "r and s"
   ]
  },
  {
   "cell_type": "code",
   "execution_count": 17,
   "id": "c35f7030",
   "metadata": {},
   "outputs": [
    {
     "data": {
      "text/plain": [
       "True"
      ]
     },
     "execution_count": 17,
     "metadata": {},
     "output_type": "execute_result"
    }
   ],
   "source": [
    "r or s"
   ]
  },
  {
   "cell_type": "code",
   "execution_count": 18,
   "id": "0d8dbeb6",
   "metadata": {},
   "outputs": [
    {
     "data": {
      "text/plain": [
       "False"
      ]
     },
     "execution_count": 18,
     "metadata": {},
     "output_type": "execute_result"
    }
   ],
   "source": [
    "not r"
   ]
  },
  {
   "cell_type": "code",
   "execution_count": 19,
   "id": "c867d42c",
   "metadata": {},
   "outputs": [],
   "source": [
    "# Veamos ejemplos con números y expresiones más complejas\n",
    "c = 32423\n",
    "d = 423"
   ]
  },
  {
   "cell_type": "code",
   "execution_count": 20,
   "id": "7681020a",
   "metadata": {},
   "outputs": [
    {
     "data": {
      "text/plain": [
       "False"
      ]
     },
     "execution_count": 20,
     "metadata": {},
     "output_type": "execute_result"
    }
   ],
   "source": [
    "a > b and a > c"
   ]
  },
  {
   "cell_type": "code",
   "execution_count": 21,
   "id": "3af18000",
   "metadata": {},
   "outputs": [
    {
     "data": {
      "text/plain": [
       "True"
      ]
     },
     "execution_count": 21,
     "metadata": {},
     "output_type": "execute_result"
    }
   ],
   "source": [
    "a > b or a > c"
   ]
  },
  {
   "cell_type": "markdown",
   "id": "e68ec863",
   "metadata": {},
   "source": [
    "Para el caso del operador `not`, generalmente va acompañado de otros operadores que pueden ser de pertenencia (`in`) o de identidad (`is`). El operador `in` se emplea para identificar pertenencia de un elemento en una secuencia (listas, strings, tuplas). Por otra parte, el operador `is` se emplea para comprobar si dos variables emplean la misma ubicación en memoria. "
   ]
  },
  {
   "cell_type": "code",
   "execution_count": 22,
   "id": "54b734fe",
   "metadata": {},
   "outputs": [
    {
     "data": {
      "text/plain": [
       "True"
      ]
     },
     "execution_count": 22,
     "metadata": {},
     "output_type": "execute_result"
    }
   ],
   "source": [
    "# Ejemplo de not con operador de pertenecia in\n",
    "\n",
    "segundo_planeta = \"Venus\"\n",
    "\"e\" in \"Venus\""
   ]
  },
  {
   "cell_type": "markdown",
   "id": "a2e6f2ac",
   "metadata": {},
   "source": [
    "En este caso, estamos preguntando ¿está el caracter \"e\" en la cadena de caracteres \"Venus\"?, la respuesta es verdadera. "
   ]
  },
  {
   "cell_type": "code",
   "execution_count": 23,
   "id": "fd88364f",
   "metadata": {},
   "outputs": [
    {
     "data": {
      "text/plain": [
       "False"
      ]
     },
     "execution_count": 23,
     "metadata": {},
     "output_type": "execute_result"
    }
   ],
   "source": [
    "\"e\" not in \"Venus\""
   ]
  },
  {
   "cell_type": "markdown",
   "id": "32a3a2f3",
   "metadata": {},
   "source": [
    "En este caso la pregunta es ¿El caracter e no está en la cadena \"Venus\"?"
   ]
  },
  {
   "cell_type": "code",
   "execution_count": 24,
   "id": "fb2aebef",
   "metadata": {},
   "outputs": [
    {
     "data": {
      "text/plain": [
       "False"
      ]
     },
     "execution_count": 24,
     "metadata": {},
     "output_type": "execute_result"
    }
   ],
   "source": [
    "# Ejemplo de not con operador de identidad is\n",
    "# La variable primer planeta es igual a la variable segundo planeta?\n",
    "\n",
    "primer_planeta is segundo_planeta"
   ]
  },
  {
   "cell_type": "code",
   "execution_count": 25,
   "id": "736d341a",
   "metadata": {},
   "outputs": [
    {
     "data": {
      "text/plain": [
       "True"
      ]
     },
     "execution_count": 25,
     "metadata": {},
     "output_type": "execute_result"
    }
   ],
   "source": [
    "# La variable primer planeta no es la variable segundo planeta?\n",
    "primer_planeta is not segundo_planeta"
   ]
  },
  {
   "cell_type": "markdown",
   "id": "58c5dab5",
   "metadata": {},
   "source": [
    "## Algunas acciones con cadenas de texto\n",
    "\n",
    "### Indexado y slicing\n",
    "\n",
    "Los objetos en Python (como cadenas de texto, listas, tuplas, etc.) tienen asigando un número, que indica la posición de ese elemento en particular. A partir de éste número de referencia podemos dividir/partir (hacer *slicing* el objeto en cuestión. \n",
    "\n",
    "<br>\n",
    "\n",
    "Por ejemplo, consideremos el siguiente texto: "
   ]
  },
  {
   "cell_type": "code",
   "execution_count": 26,
   "id": "71a598c7",
   "metadata": {},
   "outputs": [],
   "source": [
    "texto_1 = \"bioinfo\""
   ]
  },
  {
   "cell_type": "markdown",
   "id": "254c9222",
   "metadata": {},
   "source": [
    "Si vemos el tamaño de `texto_1` podemos observar que se componre de 7 elementos, es decir, 7 letras:"
   ]
  },
  {
   "cell_type": "code",
   "execution_count": 27,
   "id": "8f189150",
   "metadata": {},
   "outputs": [
    {
     "data": {
      "text/plain": [
       "7"
      ]
     },
     "execution_count": 27,
     "metadata": {},
     "output_type": "execute_result"
    }
   ],
   "source": [
    "len(texto_1)"
   ]
  },
  {
   "cell_type": "markdown",
   "id": "b7e7c76c",
   "metadata": {},
   "source": [
    "Cada una de éstas letras está indexada de la siguiente forma:\n",
    "\n",
    "![Indexado](../img/python/indexado.png \"Indexado\")"
   ]
  },
  {
   "cell_type": "markdown",
   "id": "562c1abb",
   "metadata": {},
   "source": [
    "<div class=\"alert alert-warning\" role=\"alert\">\n",
    "Nota que el indexado comienza con 0.\n",
    "</div>"
   ]
  },
  {
   "cell_type": "markdown",
   "id": "0358a1fa",
   "metadata": {},
   "source": [
    "Entonces si queremos acceder al elemento 2, es decir a la letra \"i\", de nuestra cadena seria:\n",
    "    "
   ]
  },
  {
   "cell_type": "code",
   "execution_count": 28,
   "id": "9e799eed",
   "metadata": {},
   "outputs": [
    {
     "data": {
      "text/plain": [
       "'i'"
      ]
     },
     "execution_count": 28,
     "metadata": {},
     "output_type": "execute_result"
    }
   ],
   "source": [
    "texto_1[1]"
   ]
  },
  {
   "cell_type": "markdown",
   "id": "af3f0141",
   "metadata": {},
   "source": [
    "En general, se utiliza la sintaxis de corchetes y dos puntos.\n",
    "\n",
    "<br>\n",
    "Si deseamos conocer todos los elementos de un objeto, escribiriamos:\n"
   ]
  },
  {
   "cell_type": "code",
   "execution_count": 29,
   "id": "12e0aacf",
   "metadata": {},
   "outputs": [
    {
     "data": {
      "text/plain": [
       "'bioinfo'"
      ]
     },
     "execution_count": 29,
     "metadata": {},
     "output_type": "execute_result"
    }
   ],
   "source": [
    "texto_1[0:]"
   ]
  },
  {
   "cell_type": "markdown",
   "id": "72cb0f98",
   "metadata": {},
   "source": [
    "También podemos conocer un rango de elementos, por ejemplo:"
   ]
  },
  {
   "cell_type": "code",
   "execution_count": 30,
   "id": "fe2cdaf4",
   "metadata": {},
   "outputs": [
    {
     "data": {
      "text/plain": [
       "'oin'"
      ]
     },
     "execution_count": 30,
     "metadata": {},
     "output_type": "execute_result"
    }
   ],
   "source": [
    "texto_1[2:5]"
   ]
  },
  {
   "cell_type": "markdown",
   "id": "7ffd09ac",
   "metadata": {},
   "source": [
    "Conocer elementos a partir de la posición 2:"
   ]
  },
  {
   "cell_type": "code",
   "execution_count": 31,
   "id": "1ae2e7a3",
   "metadata": {},
   "outputs": [
    {
     "data": {
      "text/plain": [
       "'oinfo'"
      ]
     },
     "execution_count": 31,
     "metadata": {},
     "output_type": "execute_result"
    }
   ],
   "source": [
    "texto_1[2:]"
   ]
  },
  {
   "cell_type": "markdown",
   "id": "1bb8d00a",
   "metadata": {},
   "source": [
    "También puede llevarse a cabo un **indexado negativo**:\n",
    "\n",
    "\n",
    "![Indexado-Negativo](../img/python/indexado-negativo.png \"Indexado Negativo\")"
   ]
  },
  {
   "cell_type": "markdown",
   "id": "73165db7",
   "metadata": {},
   "source": [
    "Conocer el seundo elemento negativo:"
   ]
  },
  {
   "cell_type": "code",
   "execution_count": 32,
   "id": "52a5eaa7",
   "metadata": {},
   "outputs": [
    {
     "data": {
      "text/plain": [
       "'f'"
      ]
     },
     "execution_count": 32,
     "metadata": {},
     "output_type": "execute_result"
    }
   ],
   "source": [
    "texto_1[-2]"
   ]
  },
  {
   "cell_type": "markdown",
   "id": "24c4d1f6",
   "metadata": {},
   "source": [
    "Conocer los últimos dos elementos:"
   ]
  },
  {
   "cell_type": "code",
   "execution_count": 33,
   "id": "10693565",
   "metadata": {},
   "outputs": [
    {
     "data": {
      "text/plain": [
       "'fo'"
      ]
     },
     "execution_count": 33,
     "metadata": {},
     "output_type": "execute_result"
    }
   ],
   "source": [
    "texto_1[-2:]"
   ]
  },
  {
   "cell_type": "markdown",
   "id": "8eb74e08",
   "metadata": {},
   "source": [
    "Conocer todo excepto los últimos dos elementos:"
   ]
  },
  {
   "cell_type": "code",
   "execution_count": 34,
   "id": "01f76234",
   "metadata": {},
   "outputs": [
    {
     "data": {
      "text/plain": [
       "'bioin'"
      ]
     },
     "execution_count": 34,
     "metadata": {},
     "output_type": "execute_result"
    }
   ],
   "source": [
    "texto_1[:-2]"
   ]
  },
  {
   "cell_type": "markdown",
   "id": "66b1ed78",
   "metadata": {},
   "source": [
    "## Control de flujo\n",
    "### Selectivo: `if`, `elif`, `else`\n",
    "\n",
    "* `if`: si\n",
    "* `elif`: sino, si\n",
    "* `else`: sino\n",
    "\n",
    "Para los ejemplos de ésta sección vamos a usar los algoritmos que diseñamos en la sección de *Fundamentos de programación*.\n",
    "\n",
    "```\n",
    "Algoritmo numero_mayor_uno\n",
    "  Definir x como Entero\n",
    "\tEscribir 'Escribe un número:'\n",
    "\tLeer x\n",
    "\tSi x>1 Entonces\n",
    "\t\tImprimir 'El número es mayor a 1.'\n",
    "\tSiNo\n",
    "\t\tImprimir 'El número es menor a 1.'\n",
    "\tFinSi\n",
    "FinAlgoritmo\n",
    "```"
   ]
  },
  {
   "cell_type": "markdown",
   "id": "89c0e4ec",
   "metadata": {},
   "source": [
    "**Código en Python**\n",
    "\n",
    "```\n",
    "x = int(input(\"Escribe un número: \"))\n",
    "print(x)\n",
    "if x > 1:\n",
    "    print(\"El número es mayor a 1.\")\n",
    "else:\n",
    "print(\"El número es menor a 1.\")\n",
    "```"
   ]
  },
  {
   "cell_type": "markdown",
   "id": "7305f299",
   "metadata": {},
   "source": [
    "**Output**\n",
    "\n",
    "```\n",
    "Escribe un número: 3\n",
    "3\n",
    "El número es mayor a 1.\n",
    "```"
   ]
  },
  {
   "cell_type": "markdown",
   "id": "ec6b5443",
   "metadata": {},
   "source": [
    "<div class=\"alert alert-warning\" role=\"alert\">\n",
    "\n",
    "En este caso `int()` es la función integrada que utiliza Python para definir un número como entero.\n",
    "\n",
    "</div>"
   ]
  },
  {
   "cell_type": "markdown",
   "id": "0681ca79",
   "metadata": {},
   "source": [
    "Para el caso de un algoritmos electivo anidado, como este: \n",
    "\n",
    "```\n",
    "Algoritmo calificacion\n",
    "\tDefinir cali Como Real\n",
    "\tEscribir \"Ingrese su calificación final:\"\n",
    "\tLeer cali\n",
    "\tImprimir \"Su nota es: \" cali\n",
    "\tSi cali < 5 Entonces\n",
    "\t\tImprimir \"Su nota es insuficiente.\"\n",
    "\tSiNo\n",
    "\t\tSi cali == 6 Entonces\n",
    "\t\t\tImprimir \"Su nota es suficiente.\"\n",
    "\t\tSiNo\n",
    "\t\t\tSi cali > 7 Entonces\n",
    "\t\t\t\tImprimir \"Su nota es sobresaliente.\"\n",
    "\t\t\tFinSi\n",
    "\t\tFinSi\n",
    "\tFinSi\n",
    "FinAlgoritmo\n",
    "```\n",
    "\n",
    "podemos utilizar `elif`. \n",
    "\n"
   ]
  },
  {
   "cell_type": "markdown",
   "id": "4707351c",
   "metadata": {},
   "source": [
    "**Código en Python**\n",
    "\n",
    "```\n",
    "cali = float(input(\"Ingrese su calificación final: \"))\n",
    "print(cali)\n",
    "print(\"Su nota es: \" ,cali)\n",
    "if cali < 5:\n",
    "    print(\"Su nota es insuficiente.\")\n",
    "elif cali == 6:\n",
    "    print(\"Su nota es suficiente.\")\n",
    "elif cali > 7:\n",
    "    print(\"Su nota es sobresaliente.\")\n",
    "```"
   ]
  },
  {
   "cell_type": "markdown",
   "id": "928c11e3",
   "metadata": {},
   "source": [
    "**Output**\n",
    "\n",
    "```\n",
    "Ingrese su calificación final: 4\n",
    "4.0\n",
    "Su nota es:  4.0\n",
    "Su nota es insuficiente.\n",
    "```"
   ]
  },
  {
   "cell_type": "markdown",
   "id": "0828e3b7",
   "metadata": {},
   "source": [
    "<div class=\"alert alert-warning\" role=\"alert\">\n",
    "\n",
    "\n",
    "En este caso `float()` es la función integrada que utiliza Python para definir un número como real.\n",
    "</div>"
   ]
  },
  {
   "cell_type": "markdown",
   "id": "effbce91",
   "metadata": {},
   "source": [
    "## Funciones integradas\n",
    "\n",
    "En inglés son conocidas como *Built in Functions* y el listado completo puedes verlo aquí: https://docs.python.org/3/library/functions.html. Son funciones que están predeterminadas en Python y puedes ayudarnos a hacer algunas tareas sencillas. Aquí veremos algunos ejemplos."
   ]
  },
  {
   "cell_type": "markdown",
   "id": "f738496a",
   "metadata": {},
   "source": [
    "* `print()`: Como su nombre indica, imprime lo que contenga en parentesis. "
   ]
  },
  {
   "cell_type": "code",
   "execution_count": 35,
   "id": "82470575",
   "metadata": {},
   "outputs": [
    {
     "name": "stdout",
     "output_type": "stream",
     "text": [
      "Hola\n",
      "Primera letra del abecedario\n"
     ]
    }
   ],
   "source": [
    "print(\"Hola\")\n",
    "a = \"Primera letra del abecedario\"\n",
    "print(a)"
   ]
  },
  {
   "cell_type": "markdown",
   "id": "f6d3022f",
   "metadata": {},
   "source": [
    "* `int()`: Transforma una cadena a un entero (si esto no es posible, marca error)."
   ]
  },
  {
   "cell_type": "code",
   "execution_count": 36,
   "id": "eb3c3292",
   "metadata": {},
   "outputs": [
    {
     "name": "stdout",
     "output_type": "stream",
     "text": [
      "2\n"
     ]
    }
   ],
   "source": [
    "n = int(\"2\")\n",
    "print(n)"
   ]
  },
  {
   "cell_type": "markdown",
   "id": "8b61699e",
   "metadata": {},
   "source": [
    "* `float()`: Transforma un cadena a un número real o flotante."
   ]
  },
  {
   "cell_type": "code",
   "execution_count": 37,
   "id": "22fcf5f9",
   "metadata": {},
   "outputs": [
    {
     "name": "stdout",
     "output_type": "stream",
     "text": [
      "10.6\n"
     ]
    }
   ],
   "source": [
    "f = float(\"10.6\")\n",
    "print(f)"
   ]
  },
  {
   "cell_type": "markdown",
   "id": "603a8ace",
   "metadata": {},
   "source": [
    "* `str`: Trnsforma cualquier valor a una cadena."
   ]
  },
  {
   "cell_type": "code",
   "execution_count": 38,
   "id": "7fd8c4fc",
   "metadata": {},
   "outputs": [
    {
     "name": "stdout",
     "output_type": "stream",
     "text": [
      "Un texto concatenando un número 230\n"
     ]
    }
   ],
   "source": [
    "texto = \"Un texto concatenando un número \" + str(230)\n",
    "print(texto)"
   ]
  },
  {
   "cell_type": "markdown",
   "id": "d5bb0d18",
   "metadata": {},
   "source": [
    "* `bin`: Convertir un entero a binario."
   ]
  },
  {
   "cell_type": "code",
   "execution_count": 39,
   "id": "acdb18dc",
   "metadata": {},
   "outputs": [
    {
     "data": {
      "text/plain": [
       "'0b100000'"
      ]
     },
     "execution_count": 39,
     "metadata": {},
     "output_type": "execute_result"
    }
   ],
   "source": [
    "bin(32)"
   ]
  },
  {
   "cell_type": "markdown",
   "id": "94724532",
   "metadata": {},
   "source": [
    "* `type()`: Arroja como resultado el tipo de dato que contiene una variable."
   ]
  },
  {
   "cell_type": "code",
   "execution_count": 40,
   "id": "36e347c5",
   "metadata": {},
   "outputs": [
    {
     "data": {
      "text/plain": [
       "str"
      ]
     },
     "execution_count": 40,
     "metadata": {},
     "output_type": "execute_result"
    }
   ],
   "source": [
    "type(texto)"
   ]
  },
  {
   "cell_type": "markdown",
   "id": "54a1a75d",
   "metadata": {},
   "source": [
    "* `len()`: Arroja el número de elementos de un objeto. "
   ]
  },
  {
   "cell_type": "code",
   "execution_count": 41,
   "id": "f72f5829",
   "metadata": {},
   "outputs": [
    {
     "data": {
      "text/plain": [
       "35"
      ]
     },
     "execution_count": 41,
     "metadata": {},
     "output_type": "execute_result"
    }
   ],
   "source": [
    "len(texto)"
   ]
  }
 ],
 "metadata": {
  "kernelspec": {
   "display_name": "Python 3 (ipykernel)",
   "language": "python",
   "name": "python3"
  },
  "language_info": {
   "codemirror_mode": {
    "name": "ipython",
    "version": 3
   },
   "file_extension": ".py",
   "mimetype": "text/x-python",
   "name": "python",
   "nbconvert_exporter": "python",
   "pygments_lexer": "ipython3",
   "version": "3.8.2"
  }
 },
 "nbformat": 4,
 "nbformat_minor": 5
}